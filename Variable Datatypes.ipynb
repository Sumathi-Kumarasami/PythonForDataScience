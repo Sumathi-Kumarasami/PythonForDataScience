{
 "cells": [
  {
   "cell_type": "code",
   "execution_count": 8,
   "metadata": {},
   "outputs": [
    {
     "data": {
      "text/plain": [
       "float"
      ]
     },
     "execution_count": 8,
     "metadata": {},
     "output_type": "execute_result"
    }
   ],
   "source": [
    "type(True)\n",
    "type(False)\n",
    "type(\"Hello World\")\n",
    "type(9.0)"
   ]
  },
  {
   "cell_type": "code",
   "execution_count": 9,
   "metadata": {},
   "outputs": [
    {
     "data": {
      "text/plain": [
       "str"
      ]
     },
     "execution_count": 9,
     "metadata": {},
     "output_type": "execute_result"
    }
   ],
   "source": [
    "type(\"Hello World\")"
   ]
  },
  {
   "cell_type": "code",
   "execution_count": 10,
   "metadata": {},
   "outputs": [
    {
     "data": {
      "text/plain": [
       "bool"
      ]
     },
     "execution_count": 10,
     "metadata": {},
     "output_type": "execute_result"
    }
   ],
   "source": [
    "type(False)"
   ]
  },
  {
   "cell_type": "code",
   "execution_count": 11,
   "metadata": {},
   "outputs": [
    {
     "data": {
      "text/plain": [
       "float"
      ]
     },
     "execution_count": 11,
     "metadata": {},
     "output_type": "execute_result"
    }
   ],
   "source": [
    "type(5.6)"
   ]
  },
  {
   "cell_type": "code",
   "execution_count": 14,
   "metadata": {},
   "outputs": [
    {
     "name": "stdout",
     "output_type": "stream",
     "text": [
      "3.2\n",
      "<class 'float'>\n",
      "<class 'float'>\n"
     ]
    }
   ],
   "source": [
    "a=8\n",
    "b=2.5\n",
    "c=a/b\n",
    "d=a/2\n",
    "print(c)\n",
    "print(type(c))\n",
    "print(type(d))"
   ]
  },
  {
   "cell_type": "code",
   "execution_count": 15,
   "metadata": {},
   "outputs": [
    {
     "name": "stdout",
     "output_type": "stream",
     "text": [
      "['Dan', 2, 4, 'Ryan', 5.67, 'Python']\n"
     ]
    }
   ],
   "source": [
    "simple_list=['Dan',2,4,'Ryan',5.67,'Python']\n",
    "print(simple_list)"
   ]
  },
  {
   "cell_type": "code",
   "execution_count": 17,
   "metadata": {},
   "outputs": [
    {
     "name": "stdout",
     "output_type": "stream",
     "text": [
      "Dan\n",
      "2\n",
      "Python\n",
      "5.67\n",
      "6\n"
     ]
    }
   ],
   "source": [
    "print(simple_list[0])\n",
    "print(simple_list[1])\n",
    "print(simple_list[-1])\n",
    "print(simple_list[-2])\n",
    "\n",
    "print(len(simple_list))"
   ]
  },
  {
   "cell_type": "code",
   "execution_count": 18,
   "metadata": {},
   "outputs": [
    {
     "name": "stdout",
     "output_type": "stream",
     "text": [
      "['Dan', 2, 52, 'Ryan', 5.67, 'Python']\n"
     ]
    }
   ],
   "source": [
    "simple_list[2]=52\n",
    "print(simple_list)"
   ]
  },
  {
   "cell_type": "code",
   "execution_count": 22,
   "metadata": {},
   "outputs": [
    {
     "name": "stdout",
     "output_type": "stream",
     "text": [
      "3\n",
      "['Dan', 2, 52]\n"
     ]
    }
   ],
   "source": [
    "simple_list.pop(3)\n",
    "print(len(simple_list))\n",
    "print(simple_list)"
   ]
  },
  {
   "cell_type": "code",
   "execution_count": 24,
   "metadata": {},
   "outputs": [
    {
     "name": "stdout",
     "output_type": "stream",
     "text": [
      "['Dan', 2, 52, 'to the back', 'to the back']\n"
     ]
    }
   ],
   "source": [
    "simple_list.append('to the back')\n",
    "print(simple_list)"
   ]
  },
  {
   "cell_type": "code",
   "execution_count": 25,
   "metadata": {},
   "outputs": [
    {
     "name": "stdout",
     "output_type": "stream",
     "text": [
      "[6, 6, 6, 6, 6]\n"
     ]
    }
   ],
   "source": [
    "repeated_list=[6]*5\n",
    "print(repeated_list)"
   ]
  },
  {
   "cell_type": "code",
   "execution_count": 29,
   "metadata": {},
   "outputs": [
    {
     "name": "stdout",
     "output_type": "stream",
     "text": [
      "[6, [1, 2, 3], 6, 6, 6]\n",
      "2\n",
      "[1, 2, 3]\n"
     ]
    }
   ],
   "source": [
    "repeated_list[1]=[1,2,3]\n",
    "print(repeated_list)\n",
    "print(repeated_list[1][1])\n",
    "print(repeated_list[1])"
   ]
  },
  {
   "cell_type": "code",
   "execution_count": 32,
   "metadata": {},
   "outputs": [
    {
     "name": "stdout",
     "output_type": "stream",
     "text": [
      "[10, 20, 30, 40]\n",
      "[10, 20, 30, 40]\n",
      "[10, 20, 30, 60]\n",
      "[10, 20, 30, 60]\n"
     ]
    }
   ],
   "source": [
    "list1=[10,20,30,'Dan']\n",
    "list2=list1\n",
    "list1[3]=40\n",
    "print(list1)\n",
    "print(list2)\n",
    "list2[3]=60\n",
    "print(list1)\n",
    "print(list2)"
   ]
  },
  {
   "cell_type": "code",
   "execution_count": 33,
   "metadata": {},
   "outputs": [
    {
     "name": "stdout",
     "output_type": "stream",
     "text": [
      "[9, 'Dan', 7, 6, 5]\n",
      "[9, 8, 7, 6, 5]\n"
     ]
    }
   ],
   "source": [
    "list3=[9,8,7,6,5]\n",
    "list4=list3.copy()\n",
    "list4[1]='Dan'\n",
    "print (list4)\n",
    "print(list3)\n"
   ]
  },
  {
   "cell_type": "code",
   "execution_count": 39,
   "metadata": {},
   "outputs": [
    {
     "name": "stdout",
     "output_type": "stream",
     "text": [
      "[9, 'Dan', 7, 6, 5]\n"
     ]
    }
   ],
   "source": [
    "simple_tuple = ('2','5','6','Dan')\n",
    "\n",
    "print(list4)"
   ]
  },
  {
   "cell_type": "code",
   "execution_count": 40,
   "metadata": {},
   "outputs": [
    {
     "name": "stdout",
     "output_type": "stream",
     "text": [
      "('2', '5', '6', '7')\n"
     ]
    }
   ],
   "source": [
    "list_dummy=list(simple_tuple)\n",
    "list_dummy[3]='7'\n",
    "simple_tuple=tuple(list_dummy)\n",
    "print (simple_tuple)\n"
   ]
  },
  {
   "cell_type": "code",
   "execution_count": 42,
   "metadata": {},
   "outputs": [
    {
     "name": "stdout",
     "output_type": "stream",
     "text": [
      "{5, 'Water', 'Dan', -3, -2}\n"
     ]
    }
   ],
   "source": [
    "set_1={'Dan',-2,5,-3,'Water'}\n",
    "print (set_1)"
   ]
  },
  {
   "cell_type": "code",
   "execution_count": 64,
   "metadata": {},
   "outputs": [
    {
     "name": "stdout",
     "output_type": "stream",
     "text": [
      "{5, 'Dan', 'Soil', -3, -2}\n"
     ]
    }
   ],
   "source": [
    "set_1.add('Soil')\n",
    "print(set_1)\n",
    "# print(set_1[0])"
   ]
  },
  {
   "cell_type": "code",
   "execution_count": 44,
   "metadata": {},
   "outputs": [
    {
     "name": "stdout",
     "output_type": "stream",
     "text": [
      "True\n"
     ]
    }
   ],
   "source": [
    "print('Water' in set_1)"
   ]
  },
  {
   "cell_type": "code",
   "execution_count": 46,
   "metadata": {},
   "outputs": [
    {
     "name": "stdout",
     "output_type": "stream",
     "text": [
      "False\n"
     ]
    }
   ],
   "source": [
    "set_1.remove('Water')\n",
    "print('Water' in set_1)"
   ]
  },
  {
   "cell_type": "code",
   "execution_count": 48,
   "metadata": {},
   "outputs": [
    {
     "name": "stdout",
     "output_type": "stream",
     "text": [
      "{'a': 'Apple', 'b': 'Ball'}\n"
     ]
    }
   ],
   "source": [
    "dict_1 = {\"a\":\"Apple\", \"b\":\"Ball\"}\n",
    "print (dict_1)"
   ]
  },
  {
   "cell_type": "code",
   "execution_count": 50,
   "metadata": {},
   "outputs": [
    {
     "name": "stdout",
     "output_type": "stream",
     "text": [
      "{'a': 'Ant', 'b': 'Ball', 8: 'Ant'}\n"
     ]
    }
   ],
   "source": [
    "dict_1[\"a\"]=\"Ant\"\n",
    "print (dict_1)"
   ]
  },
  {
   "cell_type": "code",
   "execution_count": 51,
   "metadata": {},
   "outputs": [
    {
     "name": "stdout",
     "output_type": "stream",
     "text": [
      "{'a': 'Ant', 'b': 'Ball', 8: 'Ant', 'd': 'Doll'}\n"
     ]
    }
   ],
   "source": [
    "dict_1['d']=\"Doll\"\n",
    "print (dict_1)"
   ]
  },
  {
   "cell_type": "code",
   "execution_count": 58,
   "metadata": {},
   "outputs": [
    {
     "name": "stdout",
     "output_type": "stream",
     "text": [
      "[7, 9, 11]\n"
     ]
    }
   ],
   "source": [
    "list_1=[3,5,7,9,11,14,'Dan']\n",
    "print(list_1[2:5])"
   ]
  },
  {
   "cell_type": "code",
   "execution_count": 62,
   "metadata": {},
   "outputs": [
    {
     "name": "stdout",
     "output_type": "stream",
     "text": [
      "[7, 9, 11, 14]\n"
     ]
    }
   ],
   "source": [
    "print(list_1[-5:-1])"
   ]
  },
  {
   "cell_type": "code",
   "execution_count": null,
   "metadata": {},
   "outputs": [],
   "source": []
  }
 ],
 "metadata": {
  "kernelspec": {
   "display_name": "Python 3",
   "language": "python",
   "name": "python3"
  },
  "language_info": {
   "codemirror_mode": {
    "name": "ipython",
    "version": 3
   },
   "file_extension": ".py",
   "mimetype": "text/x-python",
   "name": "python",
   "nbconvert_exporter": "python",
   "pygments_lexer": "ipython3",
   "version": "3.8.5"
  }
 },
 "nbformat": 4,
 "nbformat_minor": 4
}
